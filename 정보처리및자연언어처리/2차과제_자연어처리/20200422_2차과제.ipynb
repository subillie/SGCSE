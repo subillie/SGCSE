{
 "cells": [
  {
   "cell_type": "code",
   "execution_count": null,
   "id": "liked-exhibit",
   "metadata": {},
   "outputs": [],
   "source": [
    "#1번\n",
    "import re\n",
    "from konlpy.tag import Kkma\n",
    "kkma = Kkma()\n",
    "a = open('data.txt', encoding='utf-8').read()\n",
    "b = [j for j in a if re.search('[<body>](.*)[</body>]', a).groups()]\n",
    "tagged_paragraphs = [dict(k, kkma.pos(j, flatten=True, join=True)).items\n",
    "                     for k in c if re.search('[<p>](\\w+)[</p>]', k).groups]\n",
    "print(tagged_paragraphs)"
   ]
  },
  {
   "cell_type": "code",
   "execution_count": null,
   "id": "anonymous-mortality",
   "metadata": {},
   "outputs": [],
   "source": [
    "#2번\n",
    "import nltk\n",
    "import pickle\n",
    "\n",
    "tag = tagged_paragraphs.tagged_sents()\n",
    "size = int(len(tag)*0.9)\n",
    "train = tagged_paragraphs.tagged_sents()[:size]\n",
    "test = tagged_paragraphs.tagged_sents()[size:]\n",
    "\n",
    "t1 = nltk.UnigramTagger(train)\n",
    "t2 = nltk.BigramTagger(train, backoff=t1)\n",
    "t3 = nltk.TrigramTagger(train, backoff=t2)\n",
    "t3.evaluate(test)\n",
    "\n",
    "pickle.dump(t3, open('t3.pkl', 'wb'))\n",
    "combining_tagger = pickle.load(open('t3.pkl', 'rb'))\n",
    "combining_tagger.evaluate(test)"
   ]
  },
  {
   "cell_type": "code",
   "execution_count": null,
   "id": "charming-guarantee",
   "metadata": {},
   "outputs": [],
   "source": [
    "#3번\n",
    "test_words = [i for i in test.words()]"
   ]
  },
  {
   "cell_type": "code",
   "execution_count": null,
   "id": "enclosed-charlotte",
   "metadata": {},
   "outputs": [],
   "source": [
    "#4번\n",
    "def defaultNNG(x):\n",
    "    return([nltk.DefaultTagger('NNG').tag(x)])"
   ]
  }
 ],
 "metadata": {
  "kernelspec": {
   "display_name": "Python 3",
   "language": "python",
   "name": "python3"
  },
  "language_info": {
   "codemirror_mode": {
    "name": "ipython",
    "version": 3
   },
   "file_extension": ".py",
   "mimetype": "text/x-python",
   "name": "python",
   "nbconvert_exporter": "python",
   "pygments_lexer": "ipython3",
   "version": "3.9.2"
  }
 },
 "nbformat": 4,
 "nbformat_minor": 5
}
