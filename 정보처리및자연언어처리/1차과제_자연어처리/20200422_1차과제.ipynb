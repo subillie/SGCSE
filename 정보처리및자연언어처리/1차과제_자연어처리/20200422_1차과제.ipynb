{
 "cells": [
  {
   "cell_type": "code",
   "execution_count": 153,
   "id": "separate-liberty",
   "metadata": {},
   "outputs": [
    {
     "data": {
      "text/plain": [
       "<CategorizedPlaintextCorpusReader in 'C:\\\\Users\\\\user\\\\Desktop\\\\1차과제_자연어처리\\\\Q1'>"
      ]
     },
     "execution_count": 153,
     "metadata": {},
     "output_type": "execute_result"
    }
   ],
   "source": [
    "# 1번\n",
    "import nltk\n",
    "from nltk.corpus.reader.plaintext import CategorizedPlaintextCorpusReader\n",
    "a = CategorizedPlaintextCorpusReader('./Q1', '.*', cat_pattern='[A-Z]+[a-z]+([A-Z]+)[.].+')\n",
    "a"
   ]
  },
  {
   "cell_type": "code",
   "execution_count": 4,
   "id": "departmental-concern",
   "metadata": {
    "scrolled": true
   },
   "outputs": [
    {
     "data": {
      "text/plain": [
       "['HUMANITIES', 'NATSCIENCE', 'SOCSCIENCE', 'TECH']"
      ]
     },
     "execution_count": 4,
     "metadata": {},
     "output_type": "execute_result"
    }
   ],
   "source": [
    "a.categories()"
   ]
  },
  {
   "cell_type": "code",
   "execution_count": 154,
   "id": "sharp-invalid",
   "metadata": {},
   "outputs": [
    {
     "data": {
      "text/plain": [
       "16"
      ]
     },
     "execution_count": 154,
     "metadata": {},
     "output_type": "execute_result"
    }
   ],
   "source": [
    "len(a.fileids())"
   ]
  },
  {
   "cell_type": "code",
   "execution_count": 6,
   "id": "danish-species",
   "metadata": {
    "scrolled": true
   },
   "outputs": [
    {
     "name": "stdout",
     "output_type": "stream",
     "text": [
      "['CANacademicHUMANITIES.txt', 'CANacademicNATSCIENCE.txt', 'CANacademicSOCSCIENCE.txt', 'CANacademicTECH.txt', 'CANpopularHUMANITIES.txt', 'CANpopularNATSCIENCE.txt', 'CANpopularSOCSCIENCE.txt', 'CANpopularTECH.txt', 'NZacademicHUMANITIES.txt', 'NZacademicNATSCIENCE.txt', 'NZacademicSOCSCIENCE.txt', 'NZacademicTECH.txt', 'NZpopularHUMANITIES.txt', 'NZpopularNATSCIENCE.txt', 'NZpopularSOCSCIENCE.txt', 'NZpopularTECH.txt']\n"
     ]
    }
   ],
   "source": [
    "print(a.fileids())"
   ]
  },
  {
   "cell_type": "code",
   "execution_count": 155,
   "id": "separate-there",
   "metadata": {},
   "outputs": [
    {
     "data": {
      "text/plain": [
       "<CategorizedPlaintextCorpusReader in 'C:\\\\Users\\\\user\\\\Desktop\\\\1차과제_자연어처리\\\\Q2'>"
      ]
     },
     "execution_count": 155,
     "metadata": {},
     "output_type": "execute_result"
    }
   ],
   "source": [
    "# 2번\n",
    "b = CategorizedPlaintextCorpusReader('./Q2', '.*', cat_pattern='^(\\w+)[.].+')\n",
    "b"
   ]
  },
  {
   "cell_type": "code",
   "execution_count": 8,
   "id": "vertical-raleigh",
   "metadata": {},
   "outputs": [
    {
     "data": {
      "text/plain": [
       "['HUMANITIES.txt', 'NATSCIENCE.txt', 'SOCSCIENCE.txt', 'TECH.txt']"
      ]
     },
     "execution_count": 8,
     "metadata": {},
     "output_type": "execute_result"
    }
   ],
   "source": [
    "b.fileids()"
   ]
  },
  {
   "cell_type": "code",
   "execution_count": 21,
   "id": "indian-darwin",
   "metadata": {
    "scrolled": true
   },
   "outputs": [
    {
     "name": "stdout",
     "output_type": "stream",
     "text": [
      "파일명: HUMANITIES.txt  문자수: 530,867    어휘수: 110,177   \n",
      "파일명: NATSCIENCE.txt  문자수: 538,039    어휘수: 110,008   \n",
      "파일명: SOCSCIENCE.txt  문자수: 566,873    어휘수: 115,451   \n",
      "파일명: TECH.txt        문자수: 530,235    어휘수: 106,654   \n"
     ]
    }
   ],
   "source": [
    "# 3번\n",
    "import re\n",
    "for fileid in b.fileids() :\n",
    "    num_chars = [i for i in b.raw(fileid) if re.search('\\w', i)]\n",
    "    num_words = [w for w in b.words(fileid) if re.search('[a-z0-9]', w, re.I)]\n",
    "    print(f'파일명: {fileid:<15} 문자수: {len(num_chars):<10,} 어휘수: {len(num_words):<10,}')"
   ]
  },
  {
   "cell_type": "code",
   "execution_count": 156,
   "id": "unknown-sewing",
   "metadata": {
    "scrolled": true
   },
   "outputs": [
    {
     "data": {
      "text/plain": [
       "[(',', 22634),\n",
       " ('.', 21953),\n",
       " ('-', 6226),\n",
       " (\"'\", 4888),\n",
       " (')', 3703),\n",
       " ('(', 3694),\n",
       " ('\"', 3095)]"
      ]
     },
     "execution_count": 156,
     "metadata": {},
     "output_type": "execute_result"
    }
   ],
   "source": [
    "# 4번\n",
    "c = list(filter(lambda x: x[1]>=3000, \n",
    "                sorted(nltk.FreqDist(w for w in b.raw(b.fileids()) \n",
    "                                     if re.search('[^\\w\\s]', w)).items(), key=lambda x: x[1], reverse=True)))\n",
    "c"
   ]
  },
  {
   "cell_type": "code",
   "execution_count": 158,
   "id": "conventional-producer",
   "metadata": {},
   "outputs": [
    {
     "data": {
      "text/plain": [
       "7"
      ]
     },
     "execution_count": 158,
     "metadata": {},
     "output_type": "execute_result"
    }
   ],
   "source": [
    "len(c)"
   ]
  },
  {
   "cell_type": "code",
   "execution_count": 159,
   "id": "electoral-crime",
   "metadata": {},
   "outputs": [
    {
     "name": "stdout",
     "output_type": "stream",
     "text": [
      "[(',', 22634), ('.', 21953), ('-', 6226), (\"'\", 4888), (')', 3703), ('(', 3694), ('\"', 3095)]\n"
     ]
    }
   ],
   "source": [
    "print(c)"
   ]
  },
  {
   "cell_type": "code",
   "execution_count": 148,
   "id": "danish-disease",
   "metadata": {
    "scrolled": true
   },
   "outputs": [
    {
     "name": "stdout",
     "output_type": "stream",
     "text": [
      "                  ,    .    -    '    )    (    \" \n",
      "HUMANITIES.txt 5770 5087 1222 1640  584  584  877 \n",
      "NATSCIENCE.txt 6016 6091 1567  674 1515 1515  427 \n",
      "SOCSCIENCE.txt 6078 5674 1706 1845  701  701 1042 \n",
      "      TECH.txt 4770 5101 1731  729  903  894  749 \n"
     ]
    }
   ],
   "source": [
    "# 5번\n",
    "cfd = nltk.ConditionalFreqDist((fileid,punc)\n",
    "                              for fileid in b.fileids()\n",
    "                              for punc in [w for w in b.raw(fileid) if re.search('[^\\w\\s]', w)])\n",
    "fileids = b.fileids()\n",
    "puncs = [',', '.', '-', \"'\", ')', '(', '\"']\n",
    "cfd.tabulate(conditions=fileids, samples=puncs)"
   ]
  },
  {
   "cell_type": "code",
   "execution_count": 41,
   "id": "satisfactory-blake",
   "metadata": {},
   "outputs": [
    {
     "name": "stdout",
     "output_type": "stream",
     "text": [
      "HUMANITIES.txt\n",
      "one those time land life workshops islands flooding way that other\n",
      "death nature signs some them works loss most definition\n",
      "NATSCIENCE.txt\n",
      "way need two implications absence so difficult argue year application\n",
      "data same form soil surface zone work association material consisting\n",
      "SOCSCIENCE.txt\n",
      "one time part members which areas aware much discussion method crucial\n",
      "discounting history the of measure and over another not\n",
      "TECH.txt\n",
      "is most possible selection use all those some but uncertainty into one\n",
      "i follows assumed be which mentioned many such\n"
     ]
    }
   ],
   "source": [
    "# 6번\n",
    "for fileid in b.fileids() :\n",
    "    print(fileid)\n",
    "    nltk.Text(b.words(fileid)).similar('evidence')"
   ]
  }
 ],
 "metadata": {
  "kernelspec": {
   "display_name": "Python 3",
   "language": "python",
   "name": "python3"
  },
  "language_info": {
   "codemirror_mode": {
    "name": "ipython",
    "version": 3
   },
   "file_extension": ".py",
   "mimetype": "text/x-python",
   "name": "python",
   "nbconvert_exporter": "python",
   "pygments_lexer": "ipython3",
   "version": "3.9.2"
  }
 },
 "nbformat": 4,
 "nbformat_minor": 5
}
